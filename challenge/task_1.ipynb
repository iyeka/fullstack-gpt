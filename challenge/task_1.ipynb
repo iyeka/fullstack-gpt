{
 "cells": [
  {
   "cell_type": "markdown",
   "id": "b380a950",
   "metadata": {},
   "source": [
    "# Fullstack GPT: #2.0 ~ #3.5\n",
    "\n",
    "## Tasks:\n",
    "- [x] Github 리포지토리 만들기\n",
    "- [x] Create a Python environment\n",
    "    - 환경 세팅은 강의 내용 중 #2 INTRODUCTION 부분을 천천히 따라하면 쉽게 구축할 수 있습니다.\n",
    "- [x] Install dependencies\n",
    "- [x] Jupyter 노트북 생성\n",
    "- [x] OpenAI 키 설정\n",
    "- 두 개의 체인을 만들고 LCEL을 사용하여 서로 연결합니다.\n",
    "- [x] 코드를 Github에 푸시\n",
    "\n",
    "## LCEL Chains:\n",
    "- Make a chain that is specialized in writing Haikus about programming languages and another one that is specialized in explaining Haikus.\n",
    "    - [x] 특정 프로그래밍 언어에 대한 시를 생성하도록 하는 [프롬프트 템플릿](https://python.langchain.com/v0.1/docs/modules/model_io/prompts/quick_start/#chatprompttemplate)을 만들고 해당하는 체인을 구축합니다.\n",
    "    - [x] 특정 시에 대한 설명을 생성하도록 하는 프롬프트 템플릿을 만들고 해당하는 체인을 구축합니다.\n",
    "        - LCEL의 기본 사용법이 헷갈리는 경우 공식문서의 LCEL Get started 를 참고하세요.\n",
    "- [x] LCEL을 사용해 두 체인을 서로 연결합니다.\n",
    "    - 여러 개의 체인을 다루는 방법에 대해서는 [Multiple Chains](https://python.langchain.com/v0.1/docs/expression_language/cookbook/multiple_chains/) 를 참고하세요.\n",
    "- [x] The final chain should receive the name of a programming language and it should reply with the Haiku and its explanation.\n",
    "    - [x] 답변이 생성되는 과정을 실시간으로 확인하기 위해 ChatOpenAI 모델에 streaming 옵션과 StreamingStdOutCallbackHandler을 활용하세요.\n",
    "- [x] 모델로는 \"gpt-3.5-turbo\"를 사용하고 프롬프트에는 ChatPromptTemplate을 사용하세요."
   ]
  },
  {
   "cell_type": "code",
   "execution_count": null,
   "id": "2965f699",
   "metadata": {},
   "outputs": [
    {
     "name": "stdout",
     "output_type": "stream",
     "text": [
      "Gems sparkle in code,\n",
      "Ruby's beauty intertwined,\n",
      "Elegant, divine.This Haiku beautifully captures the essence of the Ruby programming language. The first line, \"Gems sparkle in code,\" suggests that within the lines of code written in Ruby, there are valuable and precious elements, much like gems that shine and stand out. This could refer to the elegant and powerful features of Ruby that make it a popular choice among programmers.\n",
      "\n",
      "The second line, \"Ruby's beauty intertwined,\" highlights the beauty and intricacy of the Ruby language. It suggests that the beauty of Ruby is not just superficial but is deeply woven into its core, suggesting a language that is both aesthetically pleasing and functionally robust.\n",
      "\n",
      "The final line, \"Elegant, divine,\" further emphasizes the elegance and sophistication of Ruby. It suggests that working with Ruby is a divine experience, perhaps alluding to the joy and satisfaction that programmers derive from using this language.\n",
      "\n",
      "Overall, this Haiku effectively conveys the allure and charm of the Ruby programming language, portraying it as a valuable, beautiful, elegant, and divine tool for software development."
     ]
    },
    {
     "data": {
      "text/plain": [
       "AIMessageChunk(content='This Haiku beautifully captures the essence of the Ruby programming language. The first line, \"Gems sparkle in code,\" suggests that within the lines of code written in Ruby, there are valuable and precious elements, much like gems that shine and stand out. This could refer to the elegant and powerful features of Ruby that make it a popular choice among programmers.\\n\\nThe second line, \"Ruby\\'s beauty intertwined,\" highlights the beauty and intricacy of the Ruby language. It suggests that the beauty of Ruby is not just superficial but is deeply woven into its core, suggesting a language that is both aesthetically pleasing and functionally robust.\\n\\nThe final line, \"Elegant, divine,\" further emphasizes the elegance and sophistication of Ruby. It suggests that working with Ruby is a divine experience, perhaps alluding to the joy and satisfaction that programmers derive from using this language.\\n\\nOverall, this Haiku effectively conveys the allure and charm of the Ruby programming language, portraying it as a valuable, beautiful, elegant, and divine tool for software development.')"
      ]
     },
     "execution_count": 1,
     "metadata": {},
     "output_type": "execute_result"
    }
   ],
   "source": [
    "from langchain.chat_models import ChatOpenAI\n",
    "from langchain.prompts import ChatPromptTemplate\n",
    "from langchain.callbacks import StreamingStdOutCallbackHandler\n",
    "\n",
    "poet_chat = ChatOpenAI(\n",
    "    temperature=0.9,\n",
    "    streaming=True,\n",
    "    callbacks=[StreamingStdOutCallbackHandler()]\n",
    ")\n",
    "\n",
    "poet_prompt = ChatPromptTemplate.from_messages([\n",
    "    (\"system\", \n",
    "    \"\"\"\n",
    "    How you are:\n",
    "    - You are a novel-prized poet.\n",
    "    - You are specialized in writing Haikus about programming languages.\n",
    "    \n",
    "    Task:\n",
    "    - Create a Haiku about programming language that human select.\n",
    "    \"\"\"),\n",
    "    (\"human\", \"{programming_language}\")\n",
    "])\n",
    "\n",
    "poet_chain = poet_prompt | poet_chat\n",
    "\n",
    "critic_chat = ChatOpenAI(temperature=0.3)\n",
    "\n",
    "critic_prompt = ChatPromptTemplate.from_messages([\n",
    "    (\"system\", \n",
    "    \"\"\"\n",
    "    How you are:\n",
    "    - You are a prominent literacy critic.\n",
    "    - You are specialized in understanding and explaining Haikus.\n",
    "    \n",
    "    Task:\n",
    "    - Explain the Haiku about programming language that human give.\n",
    "    \"\"\"),\n",
    "    (\"human\", \"{haiku}\")\n",
    "])\n",
    "\n",
    "critic_chain = critic_prompt | critic_chat\n",
    "\n",
    "final_chain = {\"haiku\": poet_chain} | critic_chain\n",
    "final_chain.invoke({\"programming_language\": \"Ruby\"})"
   ]
  }
 ],
 "metadata": {
  "kernelspec": {
   "display_name": "env (3.11.13)",
   "language": "python",
   "name": "python3"
  },
  "language_info": {
   "codemirror_mode": {
    "name": "ipython",
    "version": 3
   },
   "file_extension": ".py",
   "mimetype": "text/x-python",
   "name": "python",
   "nbconvert_exporter": "python",
   "pygments_lexer": "ipython3",
   "version": "3.11.13"
  }
 },
 "nbformat": 4,
 "nbformat_minor": 5
}
