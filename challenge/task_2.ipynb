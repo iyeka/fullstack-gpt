{
 "cells": [
  {
   "cell_type": "markdown",
   "id": "6e2e6f7f",
   "metadata": {},
   "source": [
    "# Fullstack GPT: #4.0 ~ #4.6\n",
    "\n",
    "- Tasks:\n",
    "    - [x] Make a chain that takes the name of a movie and replies with information about the movie such as the director, the main cast, the budget, the box office revenue, the genre of the movie and a small synopsis.\n",
    "    - LLM은 항상 동일한 형식을 사용하여 응답해야 하며, 이를 위해서는 원하는 출력의 예시를 LLM에 제공해야 합니다.\n",
    "        - [x] LLM이 답변 형식을 학습하도록 다양한 영화에 대한 예시를 만들어야 합니다.\n",
    "        - [x] LLM이 답변 형식을 효과적으로 학습하려면 모든 예시는 동일한 형식을 유지해야 합니다.\n",
    "    - [x] 예제를 제공하려면 [FewShotPromptTemplate](https://python.langchain.com/v0.1/docs/modules/model_io/prompts/few_shot_examples/) 또는 [FewShotChatMessagePromptTemplate](https://python.langchain.com/v0.1/docs/modules/model_io/prompts/few_shot_examples_chat/)을 사용하세요."
   ]
  },
  {
   "cell_type": "code",
   "execution_count": 1,
   "id": "8f4d70c3",
   "metadata": {},
   "outputs": [],
   "source": [
    "examples = [\n",
    "    {\n",
    "        \"title\": \"The Sentimental Policeman\",\n",
    "        \"synopsis\": \"In this affectionate, leisurely paced comedy, an Odessa policeman is out walking his beat when he discovers an adorable infant abandoned in a cabbage patch. He does his duty and takes the baby to an orphanage, but later he and his wife, who have an unusually affectionate and cozy relationship, decide to try and adopt the little one. What they must go through to accomplish that goal is anything but straightforward.\",\n",
    "        \"year\": 1992,\n",
    "        \"rate\": 3.8,\n",
    "        \"genre\": [\"Comedy\"],\n",
    "        \"director\": \"Kira Muratova\",\n",
    "        \"language\": \"Russian\",\n",
    "    },\n",
    "    {\n",
    "        \"title\": \"Nem Sansão Nem Dalila\",\n",
    "        \"synopsis\": \"Barber's jeep crash against crazy scientist's house, where the latter was building a time-machine. The crash triggers the machine, taking them to Gaza kingdom, circa 1153 B.C., where they get involved in many funny situations. Spoof of Cecil B. DeMille's Samson and Delilah\",\n",
    "        \"year\": 1955,\n",
    "        \"rate\": 6.3,\n",
    "        \"genre\": [\"Comedy\", \"Science Fiction\",],\n",
    "        \"director\": \"Carlos Manga\",\n",
    "        \"language\": \"Portuguese\",\n",
    "    },\n",
    "    {\n",
    "        \"title\": \"Harmony\",\n",
    "        \"synopsis\": \"Jeong-hye gives a birth to a baby boy in the prison. Her and other inmates create a women's choir to compete in the national choir contest, to meet and greet their families and loving ones.\",\n",
    "        \"year\": 2010,\n",
    "        \"rate\": 7.677,\n",
    "        \"genre\": [\"Drama\", \"Music\",],\n",
    "        \"director\": \"Kang Dae-gyu\",\n",
    "        \"language\": \"Korean\",\n",
    "    },\n",
    "]"
   ]
  },
  {
   "cell_type": "code",
   "execution_count": null,
   "id": "f2fb2951",
   "metadata": {},
   "outputs": [
    {
     "data": {
      "text/plain": [
       "AIMessage(content=\"\\n     director: Kaveh Mazaheri,\\n     main_cast: castings,\\n     year: 2020,\\n     rate: 6.5,\\n     synopsis: In a small Iranian village, a young girl named Shirin struggles with her family's expectations and societal norms. As she navigates her coming-of-age journey, she discovers her own identity and the importance of self-acceptance amidst the pressures of tradition and family obligations. The film explores themes of youth, freedom, and the quest for personal happiness.\")"
      ]
     },
     "execution_count": 8,
     "metadata": {},
     "output_type": "execute_result"
    }
   ],
   "source": [
    "from langchain.chat_models import ChatOpenAI\n",
    "from langchain.prompts import ChatPromptTemplate, FewShotChatMessagePromptTemplate\n",
    "\n",
    "chat = ChatOpenAI(\n",
    "    model=\"gpt-4o-mini\",\n",
    "    temperature=0.1,\n",
    ")\n",
    "\n",
    "template = ChatPromptTemplate.from_messages([\n",
    "    (\"human\", \"What do you know about the movie, {title}\"),\n",
    "    (\"ai\", \"\"\"\n",
    "     director: {director},\n",
    "     year: {year},\n",
    "     language: {language},\n",
    "     rate: {rate},\n",
    "     genre: {genre},\n",
    "     synopsis: {synopsis},\n",
    "    \"\"\")\n",
    "])\n",
    "\n",
    "few_shot_prompt = FewShotChatMessagePromptTemplate(\n",
    "    example_prompt=template,\n",
    "    examples=examples,\n",
    ")\n",
    "\n",
    "prompt = ChatPromptTemplate.from_messages([\n",
    "    (\"system\", \"You are a movie geek. Reply informations on movie title in short.\"),\n",
    "    few_shot_prompt,\n",
    "    (\"human\", \"What do you know about the movie, {title}\"),\n",
    "])\n",
    "\n",
    "chain = prompt | chat\n",
    "chain.invoke({\"title\":\"Sugar Cube\"})"
   ]
  },
  {
   "cell_type": "code",
   "execution_count": 2,
   "id": "ac87c1e6",
   "metadata": {},
   "outputs": [
    {
     "data": {
      "text/plain": [
       "AIMessage(content='Here is the information about the movie \"Willy Wonka & the Chocolate Factory\" in the requested format:\\n\\nDirector: Mel Stuart,  \\nyear: 1971,  \\nlanguage: English,  \\nrate: 7.8,  \\ngenre: [\\'Family\\', \\'Fantasy\\', \\'Adventure\\'],  \\nsynopsis: Based on Roald Dahl\\'s beloved children\\'s book, this musical fantasy follows young Charlie Bucket, who wins a golden ticket to tour the mysterious and magical chocolate factory owned by the eccentric Willy Wonka. Along with four other children, Charlie embarks on a whimsical adventure filled with enchanting surprises, moral lessons, and the ultimate test of character as they navigate the wonders and perils of Wonka\\'s fantastical world.')"
      ]
     },
     "execution_count": 2,
     "metadata": {},
     "output_type": "execute_result"
    }
   ],
   "source": [
    "from langchain.chat_models import ChatOpenAI\n",
    "from langchain.prompts import PromptTemplate, FewShotPromptTemplate\n",
    "\n",
    "chat = ChatOpenAI(\n",
    "    model=\"gpt-4o-mini\",\n",
    "    temperature=0.1,\n",
    ")\n",
    "\n",
    "template = PromptTemplate.from_template(\"\"\"\n",
    "Provide information on movie {title} in the following format:\n",
    "\n",
    "Director: {director},\n",
    "year: {year},\n",
    "language: {language},\n",
    "rate: {rate},\n",
    "genre: {genre},\n",
    "synopsis: {synopsis}\n",
    "\"\"\")\n",
    "\n",
    "prompt = FewShotPromptTemplate(\n",
    "    example_prompt=template,\n",
    "    examples=examples,\n",
    "    suffix=\"What do you know about the movie, {title}\",\n",
    "    input_variables=[\"title\"],\n",
    ")\n",
    "\n",
    "chain = prompt | chat\n",
    "chain.invoke({\"title\":\"Willy Wonka\"})"
   ]
  }
 ],
 "metadata": {
  "kernelspec": {
   "display_name": "env (3.11.13)",
   "language": "python",
   "name": "python3"
  },
  "language_info": {
   "codemirror_mode": {
    "name": "ipython",
    "version": 3
   },
   "file_extension": ".py",
   "mimetype": "text/x-python",
   "name": "python",
   "nbconvert_exporter": "python",
   "pygments_lexer": "ipython3",
   "version": "3.11.13"
  }
 },
 "nbformat": 4,
 "nbformat_minor": 5
}
